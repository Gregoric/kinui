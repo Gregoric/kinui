{
 "metadata": {
  "language_info": {
   "codemirror_mode": {
    "name": "ipython",
    "version": 3
   },
   "file_extension": ".py",
   "mimetype": "text/x-python",
   "name": "python",
   "nbconvert_exporter": "python",
   "pygments_lexer": "ipython3",
   "version": 3
  },
  "orig_nbformat": 2,
  "kernelspec": {
   "name": "python_defaultSpec_1596287340855",
   "display_name": "Python 3.8.5 32-bit"
  }
 },
 "nbformat": 4,
 "nbformat_minor": 2,
 "cells": [
  {
   "cell_type": "code",
   "execution_count": 1,
   "metadata": {},
   "outputs": [],
   "source": [
    "import tkinter as tk\n",
    "WIDTH = 300\n",
    "HEIGHT = 200\n",
    "\n",
    "root = tk.Tk()\n",
    "\n",
    "canvas = tk.Canvas(root, width=WIDTH, height=HEIGHT)\n",
    "canvas.pack()\n",
    "\n",
    "button = tk.Button(root, bd=5, bg=\"#333222\", foreground=\"#eee\", text=\"Press me\")\n",
    "button.pack()\n",
    "\n",
    "root.mainloop()"
   ]
  }
 ]
}