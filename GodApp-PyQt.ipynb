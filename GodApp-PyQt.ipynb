{
 "metadata": {
  "language_info": {
   "codemirror_mode": {
    "name": "ipython",
    "version": 3
   },
   "file_extension": ".py",
   "mimetype": "text/x-python",
   "name": "python",
   "nbconvert_exporter": "python",
   "pygments_lexer": "ipython3",
   "version": 3
  },
  "orig_nbformat": 2,
  "kernelspec": {
   "name": "python_defaultSpec_1596309913908",
   "display_name": "Python 3.8.5 32-bit"
  }
 },
 "nbformat": 4,
 "nbformat_minor": 2,
 "cells": [
  {
   "cell_type": "code",
   "execution_count": 1,
   "metadata": {
    "tags": []
   },
   "outputs": [
    {
     "output_type": "execute_result",
     "data": {
      "text/plain": "0"
     },
     "metadata": {},
     "execution_count": 1
    }
   ],
   "source": [
    "from PyQt5.QtWidgets import QApplication, QLabel\n",
    "app = QApplication([])\n",
    "setWindowFlag(Qt.FramelessWindowHint)\n",
    "label = QLabel(\"napis\")\n",
    "label.show()\n",
    "\n",
    "app.exec_()"
   ]
  },
  {
   "cell_type": "code",
   "execution_count": 3,
   "metadata": {},
   "outputs": [
    {
     "output_type": "error",
     "ename": "SystemExit",
     "evalue": "0",
     "traceback": [
      "An exception has occurred, use %tb to see the full traceback.\n",
      "\u001b[1;31mSystemExit\u001b[0m\u001b[1;31m:\u001b[0m 0\n"
     ]
    }
   ],
   "source": [
    "from PyQt5.QtWidgets import * \n",
    "from PyQt5.QtGui import * \n",
    "from PyQt5.QtCore import Qt \n",
    "import sys \n",
    "  \n",
    "  \n",
    "class Window(QMainWindow): \n",
    "    def __init__(self): \n",
    "        super().__init__() \n",
    "  \n",
    "        # this will hide the title bar \n",
    "        self.setWindowFlag(Qt.FramelessWindowHint) \n",
    "  \n",
    "        # set the title \n",
    "        self.setWindowTitle(\"no title\") \n",
    "  \n",
    "        # setting  the geometry of window \n",
    "        self.setGeometry(100, 100, 500, 200) \n",
    "\n",
    "        self.button = QPushButton(\"x\", self)\n",
    "        self.button.setGeometry(400, 100, 50, 50)\n",
    "        self.button.clicked.connect(self.closeApp)\n",
    "    \n",
    "    #def closeApp(self):\n",
    "       # self.instance().quit()\n",
    "\n",
    "        # QtCore.QCoreApplication.instance().quit()\n",
    "  \n",
    "        # creating a label widget \n",
    "        # by default label will display at top left corner \n",
    "        self.label_1 = QLabel('no title bar', self) \n",
    "  \n",
    "        # moving position \n",
    "        self.label_1.move(100, 100) \n",
    "  \n",
    "        # setting up border and background color \n",
    "        self.label_1.setStyleSheet(\"background-color: lightgreen; border: 3px solid green\") \n",
    "  \n",
    "        # show all the widgets \n",
    "        self.show() \n",
    "  \n",
    "  \n",
    "# create pyqt5 app \n",
    "App = QApplication(sys.argv) \n",
    "  \n",
    "# create the instance of our Window \n",
    "window = Window() \n",
    "# start the app \n",
    "sys.exit(App.exec()) "
   ]
  },
  {
   "cell_type": "code",
   "execution_count": null,
   "metadata": {},
   "outputs": [],
   "source": []
  }
 ]
}